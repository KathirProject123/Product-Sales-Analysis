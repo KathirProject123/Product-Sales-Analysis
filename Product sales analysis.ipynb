{
 "cells": [
  {
   "cell_type": "markdown",
   "id": "ecd78d44-52e8-47e6-ac8f-ebd6f3ef4e8a",
   "metadata": {},
   "source": [
    "Product Sales Analysis"
   ]
  },
  {
   "cell_type": "code",
   "execution_count": 43,
   "id": "149252d9-23dd-4127-a901-49ed4a49c17c",
   "metadata": {},
   "outputs": [],
   "source": [
    "#import the libraries\n",
    "import numpy as np\n",
    "import pandas as pd \n",
    "import matplotlib.pyplot as plt\n",
    "import seaborn as sns"
   ]
  },
  {
   "cell_type": "code",
   "execution_count": 44,
   "id": "523dcca6-f1d7-4756-8572-10adad1af5b4",
   "metadata": {},
   "outputs": [],
   "source": [
    "#Load the dataset\n",
    "maindf=pd.read_csv(r'D:\\Aaall\\My resume projects\\Product Sales Analysis\\productsalesanalysis.csv')"
   ]
  },
  {
   "cell_type": "code",
   "execution_count": 45,
   "id": "206aa88d-ed65-4184-971b-28317ea88e8a",
   "metadata": {},
   "outputs": [
    {
     "data": {
      "text/plain": [
       "(730, 13)"
      ]
     },
     "execution_count": 45,
     "metadata": {},
     "output_type": "execute_result"
    }
   ],
   "source": [
    "maindf.shape"
   ]
  },
  {
   "cell_type": "code",
   "execution_count": 46,
   "id": "8d4eb77c-f48e-4237-8c9e-74db5a48ee1a",
   "metadata": {},
   "outputs": [
    {
     "data": {
      "text/html": [
       "<div>\n",
       "<style scoped>\n",
       "    .dataframe tbody tr th:only-of-type {\n",
       "        vertical-align: middle;\n",
       "    }\n",
       "\n",
       "    .dataframe tbody tr th {\n",
       "        vertical-align: top;\n",
       "    }\n",
       "\n",
       "    .dataframe thead th {\n",
       "        text-align: right;\n",
       "    }\n",
       "</style>\n",
       "<table border=\"1\" class=\"dataframe\">\n",
       "  <thead>\n",
       "    <tr style=\"text-align: right;\">\n",
       "      <th></th>\n",
       "      <th>Order_ID</th>\n",
       "      <th>Order_Priority</th>\n",
       "      <th>Order_Quantity</th>\n",
       "      <th>Sales</th>\n",
       "      <th>Ship_Mode</th>\n",
       "      <th>Profit</th>\n",
       "      <th>Customer_Name</th>\n",
       "      <th>Region</th>\n",
       "      <th>Customer_Segment</th>\n",
       "      <th>Product_Category</th>\n",
       "      <th>Product_Sub-Category</th>\n",
       "      <th>Product_Name</th>\n",
       "      <th>Product_Container</th>\n",
       "    </tr>\n",
       "  </thead>\n",
       "  <tbody>\n",
       "    <tr>\n",
       "      <th>0</th>\n",
       "      <td>643</td>\n",
       "      <td>High</td>\n",
       "      <td>21</td>\n",
       "      <td>2781.82</td>\n",
       "      <td>Express Air</td>\n",
       "      <td>-695.26</td>\n",
       "      <td>Monica Federle</td>\n",
       "      <td>Nunavut</td>\n",
       "      <td>Corporate</td>\n",
       "      <td>Office Supplies</td>\n",
       "      <td>Storage &amp; Organization</td>\n",
       "      <td>SAFCO Commercial Wire Shelving, Black</td>\n",
       "      <td>Large Box</td>\n",
       "    </tr>\n",
       "    <tr>\n",
       "      <th>1</th>\n",
       "      <td>8995</td>\n",
       "      <td>High</td>\n",
       "      <td>35</td>\n",
       "      <td>3389.93</td>\n",
       "      <td>Express Air</td>\n",
       "      <td>737.94</td>\n",
       "      <td>Beth Paige</td>\n",
       "      <td>Northwest Territories</td>\n",
       "      <td>Consumer</td>\n",
       "      <td>Furniture</td>\n",
       "      <td>Office Furnishings</td>\n",
       "      <td>Luxo Professional Combination Clamp-On Lamps</td>\n",
       "      <td>Large Box</td>\n",
       "    </tr>\n",
       "    <tr>\n",
       "      <th>2</th>\n",
       "      <td>9127</td>\n",
       "      <td>Not Specified</td>\n",
       "      <td>7</td>\n",
       "      <td>2039.56</td>\n",
       "      <td>Express Air</td>\n",
       "      <td>-329.49</td>\n",
       "      <td>Bryan Davis</td>\n",
       "      <td>Northwest Territories</td>\n",
       "      <td>Corporate</td>\n",
       "      <td>Office Supplies</td>\n",
       "      <td>Storage &amp; Organization</td>\n",
       "      <td>Tennsco Snap-Together Open Shelving Units, Sta...</td>\n",
       "      <td>Large Box</td>\n",
       "    </tr>\n",
       "    <tr>\n",
       "      <th>3</th>\n",
       "      <td>26272</td>\n",
       "      <td>Low</td>\n",
       "      <td>6</td>\n",
       "      <td>905.94</td>\n",
       "      <td>Express Air</td>\n",
       "      <td>-4.19</td>\n",
       "      <td>Carlos Daly</td>\n",
       "      <td>Northwest Territories</td>\n",
       "      <td>Home Office</td>\n",
       "      <td>Furniture</td>\n",
       "      <td>Chairs &amp; Chairmats</td>\n",
       "      <td>Hon Olson Stacker Stools</td>\n",
       "      <td>Large Box</td>\n",
       "    </tr>\n",
       "    <tr>\n",
       "      <th>4</th>\n",
       "      <td>36646</td>\n",
       "      <td>Medium</td>\n",
       "      <td>24</td>\n",
       "      <td>1168.15</td>\n",
       "      <td>Express Air</td>\n",
       "      <td>-743.96</td>\n",
       "      <td>Muhammed MacIntyre</td>\n",
       "      <td>Northwest Territories</td>\n",
       "      <td>Small Business</td>\n",
       "      <td>Office Supplies</td>\n",
       "      <td>Storage &amp; Organization</td>\n",
       "      <td>Tennsco Industrial Shelving</td>\n",
       "      <td>Large Box</td>\n",
       "    </tr>\n",
       "  </tbody>\n",
       "</table>\n",
       "</div>"
      ],
      "text/plain": [
       "   Order_ID Order_Priority  Order_Quantity    Sales    Ship_Mode  Profit  \\\n",
       "0       643           High              21  2781.82  Express Air -695.26   \n",
       "1      8995           High              35  3389.93  Express Air  737.94   \n",
       "2      9127  Not Specified               7  2039.56  Express Air -329.49   \n",
       "3     26272            Low               6   905.94  Express Air   -4.19   \n",
       "4     36646         Medium              24  1168.15  Express Air -743.96   \n",
       "\n",
       "        Customer_Name                 Region Customer_Segment  \\\n",
       "0      Monica Federle                Nunavut        Corporate   \n",
       "1          Beth Paige  Northwest Territories         Consumer   \n",
       "2         Bryan Davis  Northwest Territories        Corporate   \n",
       "3         Carlos Daly  Northwest Territories      Home Office   \n",
       "4  Muhammed MacIntyre  Northwest Territories   Small Business   \n",
       "\n",
       "  Product_Category    Product_Sub-Category  \\\n",
       "0  Office Supplies  Storage & Organization   \n",
       "1        Furniture      Office Furnishings   \n",
       "2  Office Supplies  Storage & Organization   \n",
       "3        Furniture      Chairs & Chairmats   \n",
       "4  Office Supplies  Storage & Organization   \n",
       "\n",
       "                                        Product_Name Product_Container  \n",
       "0              SAFCO Commercial Wire Shelving, Black         Large Box  \n",
       "1       Luxo Professional Combination Clamp-On Lamps         Large Box  \n",
       "2  Tennsco Snap-Together Open Shelving Units, Sta...         Large Box  \n",
       "3                           Hon Olson Stacker Stools         Large Box  \n",
       "4                        Tennsco Industrial Shelving         Large Box  "
      ]
     },
     "execution_count": 46,
     "metadata": {},
     "output_type": "execute_result"
    }
   ],
   "source": [
    "maindf.head()"
   ]
  },
  {
   "cell_type": "code",
   "execution_count": 47,
   "id": "7688c0d3-e516-445c-8baa-a3daa6a1abd5",
   "metadata": {},
   "outputs": [
    {
     "data": {
      "text/html": [
       "<div>\n",
       "<style scoped>\n",
       "    .dataframe tbody tr th:only-of-type {\n",
       "        vertical-align: middle;\n",
       "    }\n",
       "\n",
       "    .dataframe tbody tr th {\n",
       "        vertical-align: top;\n",
       "    }\n",
       "\n",
       "    .dataframe thead th {\n",
       "        text-align: right;\n",
       "    }\n",
       "</style>\n",
       "<table border=\"1\" class=\"dataframe\">\n",
       "  <thead>\n",
       "    <tr style=\"text-align: right;\">\n",
       "      <th></th>\n",
       "      <th>Order_ID</th>\n",
       "      <th>Order_Priority</th>\n",
       "      <th>Order_Quantity</th>\n",
       "      <th>Sales</th>\n",
       "      <th>Ship_Mode</th>\n",
       "      <th>Profit</th>\n",
       "      <th>Customer_Name</th>\n",
       "      <th>Region</th>\n",
       "      <th>Customer_Segment</th>\n",
       "      <th>Product_Category</th>\n",
       "      <th>Product_Sub-Category</th>\n",
       "      <th>Product_Name</th>\n",
       "      <th>Product_Container</th>\n",
       "    </tr>\n",
       "  </thead>\n",
       "  <tbody>\n",
       "    <tr>\n",
       "      <th>725</th>\n",
       "      <td>56101</td>\n",
       "      <td>Not Specified</td>\n",
       "      <td>44</td>\n",
       "      <td>5347.13</td>\n",
       "      <td>Regular Air</td>\n",
       "      <td>1886.41</td>\n",
       "      <td>Bill Donatelli</td>\n",
       "      <td>Ontario</td>\n",
       "      <td>Corporate</td>\n",
       "      <td>Office Supplies</td>\n",
       "      <td>Binders and Binder Accessories</td>\n",
       "      <td>GBC Therma-A-Bind 250T Electric Binding System</td>\n",
       "      <td>Small Box</td>\n",
       "    </tr>\n",
       "    <tr>\n",
       "      <th>726</th>\n",
       "      <td>1059</td>\n",
       "      <td>Critical</td>\n",
       "      <td>22</td>\n",
       "      <td>127.33</td>\n",
       "      <td>Regular Air</td>\n",
       "      <td>5.30</td>\n",
       "      <td>Sean O'Donnell</td>\n",
       "      <td>Ontario</td>\n",
       "      <td>Corporate</td>\n",
       "      <td>Office Supplies</td>\n",
       "      <td>Binders and Binder Accessories</td>\n",
       "      <td>Wilson Jones 14 Line Acrylic Coated Pressboard...</td>\n",
       "      <td>Small Box</td>\n",
       "    </tr>\n",
       "    <tr>\n",
       "      <th>727</th>\n",
       "      <td>1059</td>\n",
       "      <td>Critical</td>\n",
       "      <td>24</td>\n",
       "      <td>990.10</td>\n",
       "      <td>Regular Air</td>\n",
       "      <td>310.22</td>\n",
       "      <td>Sean O'Donnell</td>\n",
       "      <td>Ontario</td>\n",
       "      <td>Corporate</td>\n",
       "      <td>Office Supplies</td>\n",
       "      <td>Binders and Binder Accessories</td>\n",
       "      <td>Wilson Jones Ledger-Size, Piano-Hinge Binder, ...</td>\n",
       "      <td>Small Box</td>\n",
       "    </tr>\n",
       "    <tr>\n",
       "      <th>728</th>\n",
       "      <td>1826</td>\n",
       "      <td>Not Specified</td>\n",
       "      <td>5</td>\n",
       "      <td>28.32</td>\n",
       "      <td>Regular Air</td>\n",
       "      <td>-14.35</td>\n",
       "      <td>Susan Vittorini</td>\n",
       "      <td>Ontario</td>\n",
       "      <td>Corporate</td>\n",
       "      <td>Office Supplies</td>\n",
       "      <td>Paper</td>\n",
       "      <td>Hammermill CopyPlus Copy Paper (20Lb. and 84 B...</td>\n",
       "      <td>Small Box</td>\n",
       "    </tr>\n",
       "    <tr>\n",
       "      <th>729</th>\n",
       "      <td>20003</td>\n",
       "      <td>Medium</td>\n",
       "      <td>39</td>\n",
       "      <td>796.08</td>\n",
       "      <td>Regular Air</td>\n",
       "      <td>30.29</td>\n",
       "      <td>Shirley Schmidt</td>\n",
       "      <td>Ontario</td>\n",
       "      <td>Corporate</td>\n",
       "      <td>Technology</td>\n",
       "      <td>Computer Peripherals</td>\n",
       "      <td>Belkin 105-Key Black Keyboard</td>\n",
       "      <td>Small Box</td>\n",
       "    </tr>\n",
       "  </tbody>\n",
       "</table>\n",
       "</div>"
      ],
      "text/plain": [
       "     Order_ID Order_Priority  Order_Quantity    Sales    Ship_Mode   Profit  \\\n",
       "725     56101  Not Specified              44  5347.13  Regular Air  1886.41   \n",
       "726      1059       Critical              22   127.33  Regular Air     5.30   \n",
       "727      1059       Critical              24   990.10  Regular Air   310.22   \n",
       "728      1826  Not Specified               5    28.32  Regular Air   -14.35   \n",
       "729     20003         Medium              39   796.08  Regular Air    30.29   \n",
       "\n",
       "       Customer_Name   Region Customer_Segment Product_Category  \\\n",
       "725   Bill Donatelli  Ontario        Corporate  Office Supplies   \n",
       "726   Sean O'Donnell  Ontario        Corporate  Office Supplies   \n",
       "727   Sean O'Donnell  Ontario        Corporate  Office Supplies   \n",
       "728  Susan Vittorini  Ontario        Corporate  Office Supplies   \n",
       "729  Shirley Schmidt  Ontario        Corporate       Technology   \n",
       "\n",
       "               Product_Sub-Category  \\\n",
       "725  Binders and Binder Accessories   \n",
       "726  Binders and Binder Accessories   \n",
       "727  Binders and Binder Accessories   \n",
       "728                           Paper   \n",
       "729            Computer Peripherals   \n",
       "\n",
       "                                          Product_Name Product_Container  \n",
       "725     GBC Therma-A-Bind 250T Electric Binding System         Small Box  \n",
       "726  Wilson Jones 14 Line Acrylic Coated Pressboard...         Small Box  \n",
       "727  Wilson Jones Ledger-Size, Piano-Hinge Binder, ...         Small Box  \n",
       "728  Hammermill CopyPlus Copy Paper (20Lb. and 84 B...         Small Box  \n",
       "729                      Belkin 105-Key Black Keyboard         Small Box  "
      ]
     },
     "execution_count": 47,
     "metadata": {},
     "output_type": "execute_result"
    }
   ],
   "source": [
    "maindf.tail()"
   ]
  },
  {
   "cell_type": "code",
   "execution_count": 48,
   "id": "2c4f3ea2-f668-4666-a9a7-f390a4c92606",
   "metadata": {},
   "outputs": [
    {
     "name": "stdout",
     "output_type": "stream",
     "text": [
      "<class 'pandas.core.frame.DataFrame'>\n",
      "RangeIndex: 730 entries, 0 to 729\n",
      "Data columns (total 13 columns):\n",
      " #   Column                Non-Null Count  Dtype  \n",
      "---  ------                --------------  -----  \n",
      " 0   Order_ID              730 non-null    int64  \n",
      " 1   Order_Priority        730 non-null    object \n",
      " 2   Order_Quantity        730 non-null    int64  \n",
      " 3   Sales                 730 non-null    float64\n",
      " 4   Ship_Mode             730 non-null    object \n",
      " 5   Profit                730 non-null    float64\n",
      " 6   Customer_Name         730 non-null    object \n",
      " 7   Region                730 non-null    object \n",
      " 8   Customer_Segment      730 non-null    object \n",
      " 9   Product_Category      730 non-null    object \n",
      " 10  Product_Sub-Category  730 non-null    object \n",
      " 11  Product_Name          730 non-null    object \n",
      " 12  Product_Container     730 non-null    object \n",
      "dtypes: float64(2), int64(2), object(9)\n",
      "memory usage: 74.3+ KB\n"
     ]
    }
   ],
   "source": [
    "maindf.info()"
   ]
  },
  {
   "cell_type": "code",
   "execution_count": 49,
   "id": "2881032e-9810-46fb-a2fe-84a163e8d9b4",
   "metadata": {},
   "outputs": [
    {
     "data": {
      "text/html": [
       "<div>\n",
       "<style scoped>\n",
       "    .dataframe tbody tr th:only-of-type {\n",
       "        vertical-align: middle;\n",
       "    }\n",
       "\n",
       "    .dataframe tbody tr th {\n",
       "        vertical-align: top;\n",
       "    }\n",
       "\n",
       "    .dataframe thead th {\n",
       "        text-align: right;\n",
       "    }\n",
       "</style>\n",
       "<table border=\"1\" class=\"dataframe\">\n",
       "  <thead>\n",
       "    <tr style=\"text-align: right;\">\n",
       "      <th></th>\n",
       "      <th>Order_ID</th>\n",
       "      <th>Order_Quantity</th>\n",
       "      <th>Sales</th>\n",
       "      <th>Profit</th>\n",
       "    </tr>\n",
       "  </thead>\n",
       "  <tbody>\n",
       "    <tr>\n",
       "      <th>count</th>\n",
       "      <td>730.000000</td>\n",
       "      <td>730.000000</td>\n",
       "      <td>730.000000</td>\n",
       "      <td>730.000000</td>\n",
       "    </tr>\n",
       "    <tr>\n",
       "      <th>mean</th>\n",
       "      <td>29721.597260</td>\n",
       "      <td>24.857534</td>\n",
       "      <td>1502.777653</td>\n",
       "      <td>207.479233</td>\n",
       "    </tr>\n",
       "    <tr>\n",
       "      <th>std</th>\n",
       "      <td>17350.560439</td>\n",
       "      <td>14.182970</td>\n",
       "      <td>2893.936648</td>\n",
       "      <td>878.631028</td>\n",
       "    </tr>\n",
       "    <tr>\n",
       "      <th>min</th>\n",
       "      <td>35.000000</td>\n",
       "      <td>1.000000</td>\n",
       "      <td>8.600000</td>\n",
       "      <td>-4437.910000</td>\n",
       "    </tr>\n",
       "    <tr>\n",
       "      <th>25%</th>\n",
       "      <td>14479.000000</td>\n",
       "      <td>13.000000</td>\n",
       "      <td>171.098375</td>\n",
       "      <td>-77.132500</td>\n",
       "    </tr>\n",
       "    <tr>\n",
       "      <th>50%</th>\n",
       "      <td>29350.500000</td>\n",
       "      <td>25.000000</td>\n",
       "      <td>438.700000</td>\n",
       "      <td>0.035000</td>\n",
       "    </tr>\n",
       "    <tr>\n",
       "      <th>75%</th>\n",
       "      <td>44978.500000</td>\n",
       "      <td>37.000000</td>\n",
       "      <td>1480.855000</td>\n",
       "      <td>180.000000</td>\n",
       "    </tr>\n",
       "    <tr>\n",
       "      <th>max</th>\n",
       "      <td>59909.000000</td>\n",
       "      <td>50.000000</td>\n",
       "      <td>27663.920000</td>\n",
       "      <td>8417.570000</td>\n",
       "    </tr>\n",
       "  </tbody>\n",
       "</table>\n",
       "</div>"
      ],
      "text/plain": [
       "           Order_ID  Order_Quantity         Sales       Profit\n",
       "count    730.000000      730.000000    730.000000   730.000000\n",
       "mean   29721.597260       24.857534   1502.777653   207.479233\n",
       "std    17350.560439       14.182970   2893.936648   878.631028\n",
       "min       35.000000        1.000000      8.600000 -4437.910000\n",
       "25%    14479.000000       13.000000    171.098375   -77.132500\n",
       "50%    29350.500000       25.000000    438.700000     0.035000\n",
       "75%    44978.500000       37.000000   1480.855000   180.000000\n",
       "max    59909.000000       50.000000  27663.920000  8417.570000"
      ]
     },
     "execution_count": 49,
     "metadata": {},
     "output_type": "execute_result"
    }
   ],
   "source": [
    "maindf.describe()"
   ]
  },
  {
   "cell_type": "markdown",
   "id": "78f1a6eb-d46d-4482-9516-6eca67298eeb",
   "metadata": {},
   "source": [
    "Checking for Null Values"
   ]
  },
  {
   "cell_type": "code",
   "execution_count": 58,
   "id": "351c5ab8-3bdd-4a60-938d-a38ac0243b66",
   "metadata": {},
   "outputs": [
    {
     "name": "stdout",
     "output_type": "stream",
     "text": [
      "Null Values: 0\n"
     ]
    }
   ],
   "source": [
    "print('Null Values:',maindf.isnull().values.sum())"
   ]
  },
  {
   "cell_type": "code",
   "execution_count": 60,
   "id": "ec29bde5-9c07-4852-836f-6d7d92c41884",
   "metadata": {},
   "outputs": [
    {
     "name": "stdout",
     "output_type": "stream",
     "text": [
      "NA values: False\n"
     ]
    }
   ],
   "source": [
    "print('NA values:',maindf.isnull().values.any())"
   ]
  },
  {
   "cell_type": "code",
   "execution_count": 62,
   "id": "5cbd7246-4b03-4f44-819e-6ed513b625c2",
   "metadata": {},
   "outputs": [],
   "source": [
    "# If dataset had null values we can use this code to drop all the null values present in the dataset\n",
    "\n",
    "# maindf=maindf.dropna()\n",
    "# print('Null Values:',maindf.isnull().values.sum())\n",
    "# print('NA values:',maindf.isnull().values.any())"
   ]
  },
  {
   "cell_type": "code",
   "execution_count": 64,
   "id": "81fd9181-46e5-41e0-a906-1f5087c02990",
   "metadata": {},
   "outputs": [
    {
     "data": {
      "text/plain": [
       "(730, 13)"
      ]
     },
     "execution_count": 64,
     "metadata": {},
     "output_type": "execute_result"
    }
   ],
   "source": [
    "# Final shape of the dataset after dealing with null values \n",
    "maindf.shape"
   ]
  },
  {
   "cell_type": "markdown",
   "id": "cdab8a3f-0e4f-4236-b6a0-2cee389e41ad",
   "metadata": {},
   "source": [
    "EDA(Exploratory Data Analysis)"
   ]
  },
  {
   "cell_type": "markdown",
   "id": "e840b2c9-7bf2-4c36-aae0-227775fe336f",
   "metadata": {},
   "source": [
    "1.Sales and Profitability by Product\n",
    "\n",
    "Use Case: Identify top-performing and low-performing products based on sales and profit."
   ]
  },
  {
   "cell_type": "code",
   "execution_count": 68,
   "id": "793017f4-8598-4dbc-9fa1-cdce7d1981b3",
   "metadata": {},
   "outputs": [
    {
     "name": "stdout",
     "output_type": "stream",
     "text": [
      "Top Profitable Products:\n",
      "                                                                     Product_Name       Sales   Profit\n",
      "172  Fellowes PB500 Electric Punch Plastic Comb Binding Machine with Manual Bind  19417.5500  8417.57\n",
      "284                        Polycom ViaVideo��� Desktop Video Communications Unit  16066.8500  7416.43\n",
      "108                                             Canon MP41DH Printing Calculator  18504.5900  6850.13\n",
      "225                                    Hoover WindTunnel��� Plus Canister Vacuum  23514.3200  6622.43\n",
      "9                                                                          2160i  24917.7075  6521.30\n",
      "Low Performing Products:\n",
      "                                     Product_Name     Sales   Profit\n",
      "112        Canon imageCLASS 2200 Advanced Copier  31336.81 -3453.74\n",
      "223         Hoover Portapower��� Portable Vacuum    326.83 -2464.32\n",
      "111           Canon PC1060 Personal Laser Copier  39909.23 -2319.90\n",
      "302        SAFCO Commercial Wire Shelving, Black  11776.18 -2160.70\n",
      "210  High Speed Automatic Electric Letter Opener   9620.82 -1759.58\n"
     ]
    }
   ],
   "source": [
    "product_sales_profit = maindf.groupby('Product_Name').agg({'Sales': 'sum', 'Profit': 'sum'}).reset_index()\n",
    "top_products = product_sales_profit.sort_values(by='Profit', ascending=False).head().to_string()\n",
    "bottom_products = product_sales_profit.sort_values(by='Profit').head().to_string()\n",
    "print(\"Top Profitable Products:\\n\", top_products)\n",
    "print(\"Low Performing Products:\\n\", bottom_products)"
   ]
  },
  {
   "cell_type": "markdown",
   "id": "2640e840-1690-46b6-a6a5-7158aa7f4142",
   "metadata": {},
   "source": [
    "2.Display the top 5 and bottom 5 products of the each region according to the user input\n"
   ]
  },
  {
   "cell_type": "code",
   "execution_count": 73,
   "id": "23441473-050b-4514-b583-c8c4fe053e6a",
   "metadata": {},
   "outputs": [
    {
     "name": "stdout",
     "output_type": "stream",
     "text": [
      "Available regions for analysis:\n",
      "Nunavut\n",
      "Northwest Territories\n",
      "Atlantic\n",
      "West\n",
      "Ontario\n",
      "Prarie\n"
     ]
    },
    {
     "name": "stdin",
     "output_type": "stream",
     "text": [
      "Please enter a region from the list above:  Northwest Territories\n"
     ]
    },
    {
     "name": "stdout",
     "output_type": "stream",
     "text": [
      "\n",
      "Top 5 Profitable Products in Northwest Territories:\n",
      "                                           Product_Name   Profit\n",
      "422  Fellowes PB500 Electric Punch Plastic Comb Bin...  8417.57\n",
      "16   Polycom ViaVideo��� Desktop Video Communicatio...  7416.43\n",
      "29                      Sharp AL-1530CS Digital Copier  6907.61\n",
      "85   Polycom ViewStation��� Adapter H323 Videoconfe...  5322.14\n",
      "26      Lifetime Advantage��� Folding Chairs, 4/Carton  3387.35\n",
      "\n",
      "Bottom 5 Profitable Products in Northwest Territories:\n",
      "                                  Product_Name   Profit\n",
      "5        Hoover Portapower��� Portable Vacuum -2088.68\n",
      "30      SAFCO Commercial Wire Shelving, Black  -942.50\n",
      "4                 Tennsco Industrial Shelving  -743.96\n",
      "409  Deluxe Rollaway Locking File with Drawer  -539.59\n",
      "404  Deluxe Rollaway Locking File with Drawer  -517.47\n"
     ]
    }
   ],
   "source": [
    "# Display unique regions for user input\n",
    "regions = maindf['Region'].unique()\n",
    "print(\"Available regions for analysis:\")\n",
    "for region in regions:\n",
    "    print(region)\n",
    "\n",
    "# Ask the user to input a region\n",
    "selected_region = input(\"Please enter a region from the list above: \")\n",
    "\n",
    "# Filter data by the selected region\n",
    "region_data = maindf[maindf['Region'] == selected_region]\n",
    "\n",
    "# Calculate top 5 and bottom 5 profitable products\n",
    "top_products = region_data.nlargest(5, 'Profit')[['Product_Name', 'Profit']]\n",
    "bottom_products = region_data.nsmallest(5, 'Profit')[['Product_Name', 'Profit']]\n",
    "\n",
    "# Display results\n",
    "print(f\"\\nTop 5 Profitable Products in {selected_region}:\\n\", top_products)\n",
    "print(f\"\\nBottom 5 Profitable Products in {selected_region}:\\n\", bottom_products)"
   ]
  },
  {
   "cell_type": "code",
   "execution_count": 67,
   "id": "5adf62ea-f820-4952-b824-276e24d41926",
   "metadata": {},
   "outputs": [
    {
     "name": "stdout",
     "output_type": "stream",
     "text": [
      "Available regions for analysis:\n",
      "Nunavut\n",
      "Northwest Territories\n",
      "Atlantic\n",
      "West\n",
      "Ontario\n",
      "Prarie\n"
     ]
    },
    {
     "name": "stdin",
     "output_type": "stream",
     "text": [
      "Please enter a region from the list above:  Northwest Territories\n"
     ]
    },
    {
     "name": "stdout",
     "output_type": "stream",
     "text": [
      "\n",
      "Top 5 Profitable Products in Northwest Territories:\n",
      "                                           Product_Name   Profit\n",
      "422  Fellowes PB500 Electric Punch Plastic Comb Bin...  8417.57\n",
      "16   Polycom ViaVideo��� Desktop Video Communicatio...  7416.43\n",
      "29                      Sharp AL-1530CS Digital Copier  6907.61\n",
      "85   Polycom ViewStation��� Adapter H323 Videoconfe...  5322.14\n",
      "26      Lifetime Advantage��� Folding Chairs, 4/Carton  3387.35\n",
      "\n",
      "Bottom 5 Profitable Products in Northwest Territories:\n",
      "                                  Product_Name   Profit\n",
      "5        Hoover Portapower��� Portable Vacuum -2088.68\n",
      "30      SAFCO Commercial Wire Shelving, Black  -942.50\n",
      "4                 Tennsco Industrial Shelving  -743.96\n",
      "409  Deluxe Rollaway Locking File with Drawer  -539.59\n",
      "404  Deluxe Rollaway Locking File with Drawer  -517.47\n"
     ]
    }
   ],
   "source": [
    "regions = maindf['Region'].unique()\n",
    "print(\"Available regions for analysis:\")\n",
    "for region in regions:\n",
    "    print(region)\n",
    "\n",
    "# Ask the user to input a region\n",
    "selected_region = input(\"Please enter a region from the list above: \")\n",
    "\n",
    "# Filter data by the selected region\n",
    "region_data = maindf[maindf['Region'] == selected_region]\n",
    "\n",
    "# Calculate top 5 and bottom 5 profitable products\n",
    "top_products = region_data.nlargest(5, 'Profit')[['Product_Name', 'Profit']]\n",
    "bottom_products = region_data.nsmallest(5, 'Profit')[['Product_Name', 'Profit']]\n",
    "\n",
    "# Display results\n",
    "print(f\"\\nTop 5 Profitable Products in {selected_region}:\\n\", top_products)\n",
    "print(f\"\\nBottom 5 Profitable Products in {selected_region}:\\n\", bottom_products)"
   ]
  },
  {
   "cell_type": "code",
   "execution_count": 69,
   "id": "a6cbbe08-4f2c-49d4-a301-39e3cfce4ca2",
   "metadata": {},
   "outputs": [
    {
     "name": "stdout",
     "output_type": "stream",
     "text": [
      "Available regions for analysis:\n",
      "Nunavut\n",
      "Northwest Territories\n",
      "Atlantic\n",
      "West\n",
      "Ontario\n",
      "Prarie\n"
     ]
    },
    {
     "name": "stdin",
     "output_type": "stream",
     "text": [
      "Please enter a region from the list above:  Atlantic\n"
     ]
    },
    {
     "name": "stdout",
     "output_type": "stream",
     "text": [
      "\n",
      "Top 5 Profitable Products in Atlantic:\n",
      "                                           Product_Name   Profit\n",
      "66   Holmes Harmony HEPA Air Purifier for 17 x 20 Room  3506.24\n",
      "164            GBC DocuBind 200 Manual Binding Machine  3049.45\n",
      "457           GBC DocuBind P100 Manual Binding Machine  2665.40\n",
      "167                                             CF 888  2549.40\n",
      "217                                                T65  2374.73\n",
      "\n",
      "Bottom 5 Profitable Products in Atlantic:\n",
      "                                          Product_Name   Profit\n",
      "43              Canon imageCLASS 2200 Advanced Copier -3061.82\n",
      "21  Lesro Sheffield Collection Coffee Table, End T... -1561.72\n",
      "99  Eldon ClusterMat Chair Mat with Cordless Antis... -1396.22\n",
      "39                     Sharp AL-1530CS Digital Copier -1011.32\n",
      "23            Carina 42\"Hx23 3/4\"W Media Storage Unit  -849.18\n"
     ]
    }
   ],
   "source": [
    "regions = maindf['Region'].unique()\n",
    "print(\"Available regions for analysis:\")\n",
    "for region in regions:\n",
    "    print(region)\n",
    "\n",
    "# Ask the user to input a region\n",
    "selected_region = input(\"Please enter a region from the list above: \")\n",
    "\n",
    "# Filter data by the selected region\n",
    "region_data = maindf[maindf['Region'] == selected_region]\n",
    "\n",
    "# Calculate top 5 and bottom 5 profitable products\n",
    "top_products = region_data.nlargest(5, 'Profit')[['Product_Name', 'Profit']]\n",
    "bottom_products = region_data.nsmallest(5, 'Profit')[['Product_Name', 'Profit']]\n",
    "\n",
    "# Display results\n",
    "print(f\"\\nTop 5 Profitable Products in {selected_region}:\\n\", top_products)\n",
    "print(f\"\\nBottom 5 Profitable Products in {selected_region}:\\n\", bottom_products)"
   ]
  },
  {
   "cell_type": "code",
   "execution_count": 71,
   "id": "6f8420b8-096d-4bc8-93dd-62c9ce9d3886",
   "metadata": {},
   "outputs": [
    {
     "name": "stdout",
     "output_type": "stream",
     "text": [
      "Available regions for analysis:\n",
      "Nunavut\n",
      "Northwest Territories\n",
      "Atlantic\n",
      "West\n",
      "Ontario\n",
      "Prarie\n"
     ]
    },
    {
     "name": "stdin",
     "output_type": "stream",
     "text": [
      "Please enter a region from the list above:  West\n"
     ]
    },
    {
     "name": "stdout",
     "output_type": "stream",
     "text": [
      "\n",
      "Top 5 Profitable Products in West:\n",
      "                                           Product_Name   Profit\n",
      "592          Hoover WindTunnel��� Plus Canister Vacuum  4604.79\n",
      "581         GBC DocuBind TL300 Electric Binding System  3724.57\n",
      "198         Hayes Optima 56K V.90 Internal Voice Modem  3392.88\n",
      "523              Dual Level, Single-Width Filing Carts  3051.62\n",
      "56   Honeywell Enviracaire Portable HEPA Air Cleane...  2848.17\n",
      "\n",
      "Bottom 5 Profitable Products in West:\n",
      "                                           Product_Name   Profit\n",
      "55                  Canon PC1060 Personal Laser Copier -4437.91\n",
      "52                          Laminate Occasional Tables -1640.51\n",
      "69   Eldon Cleatmat Plus��� Chair Mats for High Pil...  -673.31\n",
      "569                                          T28 WORLD  -554.44\n",
      "185               Adesso Programmable 142-Key Keyboard  -521.09\n"
     ]
    }
   ],
   "source": [
    "regions = maindf['Region'].unique()\n",
    "print(\"Available regions for analysis:\")\n",
    "for region in regions:\n",
    "    print(region)\n",
    "\n",
    "# Ask the user to input a region\n",
    "selected_region = input(\"Please enter a region from the list above: \")\n",
    "\n",
    "# Filter data by the selected region\n",
    "region_data = maindf[maindf['Region'] == selected_region]\n",
    "\n",
    "# Calculate top 5 and bottom 5 profitable products\n",
    "top_products = region_data.nlargest(5, 'Profit')[['Product_Name', 'Profit']]\n",
    "bottom_products = region_data.nsmallest(5, 'Profit')[['Product_Name', 'Profit']]\n",
    "\n",
    "# Display results\n",
    "print(f\"\\nTop 5 Profitable Products in {selected_region}:\\n\", top_products)\n",
    "print(f\"\\nBottom 5 Profitable Products in {selected_region}:\\n\", bottom_products)"
   ]
  },
  {
   "cell_type": "code",
   "execution_count": 73,
   "id": "6dd921ec-de1c-4a80-87bc-1b7e96c30495",
   "metadata": {},
   "outputs": [
    {
     "name": "stdout",
     "output_type": "stream",
     "text": [
      "Available regions for analysis:\n",
      "Nunavut\n",
      "Northwest Territories\n",
      "Atlantic\n",
      "West\n",
      "Ontario\n",
      "Prarie\n"
     ]
    },
    {
     "name": "stdin",
     "output_type": "stream",
     "text": [
      "Please enter a region from the list above:  Ontario\n"
     ]
    },
    {
     "name": "stdout",
     "output_type": "stream",
     "text": [
      "\n",
      "Top 5 Profitable Products in Ontario:\n",
      "                                        Product_Name   Profit\n",
      "116                        Polycom VoiceStation 100  5455.96\n",
      "702    Kensington 7 Outlet MasterPiece Power Center  2998.88\n",
      "236       Hoover WindTunnel��� Plus Canister Vacuum  2017.64\n",
      "725  GBC Therma-A-Bind 250T Electric Binding System  1886.41\n",
      "716                                 Talkabout T8097  1653.97\n",
      "\n",
      "Bottom 5 Profitable Products in Ontario:\n",
      "                                     Product_Name  Profit\n",
      "15     Space Solutions Commercial Steel Shelving -929.68\n",
      "14         SAFCO Commercial Wire Shelving, Black -522.94\n",
      "717  Fellowes PB300 Plastic Comb Binding Machine -228.24\n",
      "722                                          T18 -212.55\n",
      "242                           Staples File Caddy -188.02\n"
     ]
    }
   ],
   "source": [
    "regions = maindf['Region'].unique()\n",
    "print(\"Available regions for analysis:\")\n",
    "for region in regions:\n",
    "    print(region)\n",
    "\n",
    "# Ask the user to input a region\n",
    "selected_region = input(\"Please enter a region from the list above: \")\n",
    "\n",
    "# Filter data by the selected region\n",
    "region_data = maindf[maindf['Region'] == selected_region]\n",
    "\n",
    "# Calculate top 5 and bottom 5 profitable products\n",
    "top_products = region_data.nlargest(5, 'Profit')[['Product_Name', 'Profit']]\n",
    "bottom_products = region_data.nsmallest(5, 'Profit')[['Product_Name', 'Profit']]\n",
    "\n",
    "# Display results\n",
    "print(f\"\\nTop 5 Profitable Products in {selected_region}:\\n\", top_products)\n",
    "print(f\"\\nBottom 5 Profitable Products in {selected_region}:\\n\", bottom_products)"
   ]
  },
  {
   "cell_type": "code",
   "execution_count": 75,
   "id": "e934d506-da77-4d33-9a1d-77f2c86c3545",
   "metadata": {},
   "outputs": [
    {
     "name": "stdout",
     "output_type": "stream",
     "text": [
      "Available regions for analysis:\n",
      "Nunavut\n",
      "Northwest Territories\n",
      "Atlantic\n",
      "West\n",
      "Ontario\n",
      "Prarie\n"
     ]
    },
    {
     "name": "stdin",
     "output_type": "stream",
     "text": [
      "Please enter a region from the list above:  Prarie\n"
     ]
    },
    {
     "name": "stdout",
     "output_type": "stream",
     "text": [
      "\n",
      "Top 5 Profitable Products in Prarie:\n",
      "                                   Product_Name   Profit\n",
      "675                                  T28 WORLD  2311.96\n",
      "697      Gyration Ultra Cordless Optical Suite  1653.96\n",
      "511                                       T39m  1380.32\n",
      "502  24 Capacity Maxi Data Binder Racks, Pearl   905.57\n",
      "344                                       8890   894.06\n",
      "\n",
      "Bottom 5 Profitable Products in Prarie:\n",
      "                                           Product_Name   Profit\n",
      "50                         Tennsco Commercial Shelving -1195.29\n",
      "60             Carina 42\"Hx23 3/4\"W Media Storage Unit  -684.78\n",
      "51                         Tennsco Industrial Shelving  -628.38\n",
      "341                                               8290  -492.77\n",
      "48   Lesro Round Back Collection Coffee Table, End ...  -367.00\n"
     ]
    }
   ],
   "source": [
    "regions = maindf['Region'].unique()\n",
    "print(\"Available regions for analysis:\")\n",
    "for region in regions:\n",
    "    print(region)\n",
    "\n",
    "# Ask the user to input a region\n",
    "selected_region = input(\"Please enter a region from the list above: \")\n",
    "\n",
    "# Filter data by the selected region\n",
    "region_data = maindf[maindf['Region'] == selected_region]\n",
    "\n",
    "# Calculate top 5 and bottom 5 profitable products\n",
    "top_products = region_data.nlargest(5, 'Profit')[['Product_Name', 'Profit']]\n",
    "bottom_products = region_data.nsmallest(5, 'Profit')[['Product_Name', 'Profit']]\n",
    "\n",
    "# Display results\n",
    "print(f\"\\nTop 5 Profitable Products in {selected_region}:\\n\", top_products)\n",
    "print(f\"\\nBottom 5 Profitable Products in {selected_region}:\\n\", bottom_products)"
   ]
  },
  {
   "cell_type": "markdown",
   "id": "0c7c5b9b-9091-4f95-98da-98a99f4f378b",
   "metadata": {},
   "source": [
    "2.Order Priority vs. Profit\n",
    "\n",
    "Use Case: Understand how order priority affects profit."
   ]
  },
  {
   "cell_type": "code",
   "execution_count": 75,
   "id": "5ab25c11-2e86-4128-822f-cc543d8ed70d",
   "metadata": {},
   "outputs": [
    {
     "name": "stdout",
     "output_type": "stream",
     "text": [
      "  Order_Priority      Profit\n",
      "0       Critical  157.547823\n",
      "1           High  209.259013\n",
      "2            Low  275.062925\n",
      "3         Medium  220.079766\n",
      "4  Not Specified  178.772308\n"
     ]
    }
   ],
   "source": [
    "priority_profit = maindf.groupby('Order_Priority').agg({'Profit': 'mean'}).reset_index()\n",
    "print(priority_profit)\n"
   ]
  },
  {
   "cell_type": "code",
   "execution_count": 110,
   "id": "052f4f50-fdbb-4b3a-8ca9-bd907527f189",
   "metadata": {},
   "outputs": [
    {
     "data": {
      "image/png": "[encoded data removed]",
      "text/plain": [
       "<Figure size 800x600 with 1 Axes>"
      ]
     },
     "metadata": {},
     "output_type": "display_data"
    }
   ],
   "source": [
    "import matplotlib.pyplot as plt\n",
    "import seaborn as sns\n",
    "\n",
    "# Assuming `priority_profit` is already calculated\n",
    "# Bar plot with `hue` assigned and legend turned off\n",
    "plt.figure(figsize=(8, 6))\n",
    "sns.barplot(x='Order_Priority', y='Profit', data=priority_profit, hue='Order_Priority', palette='Greens', dodge=False, legend=False)\n",
    "plt.title('Average Profit by Order Priority')\n",
    "plt.xlabel('Order Priority')\n",
    "plt.ylabel('Average Profit')\n",
    "plt.show()"
   ]
  },
  {
   "cell_type": "markdown",
   "id": "1b5029d9-7c36-4080-b4a3-e7557335a18d",
   "metadata": {},
   "source": [
    "3.Profitability by Customer Segment\n",
    "\n",
    "Use Case: Identify the most and least profitable customer segments."
   ]
  },
  {
   "cell_type": "code",
   "execution_count": 135,
   "id": "f725ee79-8a97-490b-b2bf-26ed89106689",
   "metadata": {},
   "outputs": [
    {
     "name": "stdout",
     "output_type": "stream",
     "text": [
      "  Customer_Segment        Sales     Profit\n",
      "1        Corporate  805343.1240  120106.44\n",
      "0         Consumer  186041.2210   18641.47\n",
      "2      Home Office   70363.1295   11619.34\n",
      "3   Small Business   35280.2125    1092.59\n"
     ]
    }
   ],
   "source": [
    "segment_profit = maindf.groupby('Customer_Segment').agg({'Sales': 'sum', 'Profit': 'sum'}).reset_index()\n",
    "print(segment_profit.sort_values(by='Profit', ascending=False))\n"
   ]
  },
  {
   "cell_type": "code",
   "execution_count": 137,
   "id": "70da7327-d522-468d-97e0-f0095f2ca1d6",
   "metadata": {},
   "outputs": [
    {
     "data": {
      "image/png": "[encoded data removed]",
      "text/plain": [
       "<Figure size 1000x600 with 1 Axes>"
      ]
     },
     "metadata": {},
     "output_type": "display_data"
    }
   ],
   "source": [
    "# Sort data by Profit in descending order\n",
    "segment_profit_sorted = segment_profit.sort_values(by='Profit', ascending=False)\n",
    "\n",
    "# Vertical bar plot with `hue` assigned and legend turned off\n",
    "plt.figure(figsize=(10, 6))\n",
    "sns.barplot(data=segment_profit_sorted, x='Customer_Segment', y='Profit', palette='viridis', hue='Customer_Segment', dodge=False, legend=False)\n",
    "plt.title('Total Profit by Customer Segment')\n",
    "plt.xlabel('Customer Segment')\n",
    "plt.ylabel('Total Profit')\n",
    "plt.xticks(rotation=45)\n",
    "plt.show()\n"
   ]
  },
  {
   "cell_type": "code",
   "execution_count": 139,
   "id": "aea49a66-dd08-49d7-9fdb-72e5d85ab225",
   "metadata": {},
   "outputs": [
    {
     "name": "stdout",
     "output_type": "stream",
     "text": [
      "     Ship_Mode      Profit\n",
      "0  Express Air  219.596821\n",
      "1  Regular Air  204.319033\n"
     ]
    }
   ],
   "source": [
    "shipmode_profit = maindf.groupby('Ship_Mode').agg({'Profit': 'mean'}).reset_index()\n",
    "print(shipmode_profit)"
   ]
  },
  {
   "cell_type": "markdown",
   "id": "0d73f0a3-dea3-4ca6-b72b-4dd6ea1a63a4",
   "metadata": {},
   "source": [
    "4.Sales and Profit by Region\n",
    "\n",
    "Use Case: Determine which regions are most and least profitable."
   ]
  },
  {
   "cell_type": "code",
   "execution_count": 142,
   "id": "b828ae11-6c2d-48c5-95d5-ba92bcedb383",
   "metadata": {},
   "outputs": [
    {
     "name": "stdout",
     "output_type": "stream",
     "text": [
      "                  Region        Sales    Profit\n",
      "1  Northwest Territories  275140.7555  59551.86\n",
      "5                   West  346001.4240  39414.21\n",
      "0               Atlantic  271205.1010  28393.28\n",
      "3                Ontario   81727.7725  16375.46\n",
      "4                 Prarie   86646.1360   6944.32\n",
      "2                Nunavut   36306.4980    780.71\n"
     ]
    }
   ],
   "source": [
    "region_profit = maindf.groupby('Region').agg({'Sales': 'sum', 'Profit': 'sum'}).reset_index()\n",
    "print(region_profit.sort_values(by='Profit', ascending=False))"
   ]
  },
  {
   "cell_type": "code",
   "execution_count": 144,
   "id": "cdf219c7-4447-4335-82be-8f2ed6ccfb72",
   "metadata": {},
   "outputs": [
    {
     "data": {
      "image/png": "[encoded data removed]",
      "text/plain": [
       "<Figure size 1200x600 with 1 Axes>"
      ]
     },
     "metadata": {},
     "output_type": "display_data"
    }
   ],
   "source": [
    "# Sort data by Profit in descending order for clarity\n",
    "region_profit_sorted = region_profit.sort_values(by='Profit', ascending=False)\n",
    "\n",
    "# Define bar width and set up the figure\n",
    "bar_width = 0.35\n",
    "index = np.arange(len(region_profit_sorted))\n",
    "\n",
    "plt.figure(figsize=(12, 6))\n",
    "\n",
    "# Plot bars for Sales and Profit side by side\n",
    "plt.bar(index, region_profit_sorted['Sales'], bar_width, label='Sales', color='skyblue')\n",
    "plt.bar(index + bar_width, region_profit_sorted['Profit'], bar_width, label='Profit', color='darkblue')\n",
    "\n",
    "# Set labels, title, and ticks\n",
    "plt.xlabel('Region')\n",
    "plt.ylabel('Amount')\n",
    "plt.title('Sales and Profit by Region')\n",
    "plt.xticks(index + bar_width / 2, region_profit_sorted['Region'], rotation=45)\n",
    "plt.legend()\n",
    "\n",
    "plt.tight_layout()\n",
    "plt.show()\n"
   ]
  },
  {
   "cell_type": "markdown",
   "id": "c80d3f7c-c314-4546-b47f-81bab1012a39",
   "metadata": {},
   "source": [
    "5.Product Category Performance\n",
    "\n",
    "Use Case: Understand which product categories drive the most profit."
   ]
  },
  {
   "cell_type": "code",
   "execution_count": 147,
   "id": "90b31b05-418c-408f-8538-cdcd26bb51cf",
   "metadata": {},
   "outputs": [
    {
     "name": "stdout",
     "output_type": "stream",
     "text": [
      "  Product_Category       Sales    Profit\n",
      "2       Technology  561675.807  81368.05\n",
      "1  Office Supplies  383538.340  53073.95\n",
      "0        Furniture  151813.540  17017.84\n"
     ]
    }
   ],
   "source": [
    "category_performance = maindf.groupby('Product_Category').agg({'Sales': 'sum', 'Profit': 'sum'}).reset_index()\n",
    "print(category_performance.sort_values(by='Profit', ascending=False))\n"
   ]
  },
  {
   "cell_type": "code",
   "execution_count": 149,
   "id": "52284f26-dbb4-4ebd-a95c-662d8f78ee04",
   "metadata": {},
   "outputs": [
    {
     "data": {
      "image/png": "[encoded data removed]",
      "text/plain": [
       "<Figure size 1000x600 with 1 Axes>"
      ]
     },
     "metadata": {},
     "output_type": "display_data"
    }
   ],
   "source": [
    "# Sort data by Profit in descending order\n",
    "category_performance_sorted = category_performance.sort_values(by='Profit', ascending=False)\n",
    "\n",
    "# Horizontal bar plot for Profit by Product Category\n",
    "plt.figure(figsize=(10, 6))\n",
    "sns.barplot(x='Profit', y='Product_Category', data=category_performance_sorted, palette='coolwarm',hue='Product_Category', dodge=False, legend=False)\n",
    "plt.title('Profit by Product Category')\n",
    "plt.xlabel('Total Profit')\n",
    "plt.ylabel('Product Category')\n",
    "plt.show()\n"
   ]
  },
  {
   "cell_type": "markdown",
   "id": "6cdba000-9990-465d-9891-19de11c9be9f",
   "metadata": {},
   "source": [
    " 6.Customer and Product Cross-Sell Analysis\n",
    "\n",
    "Use Case: Identify which customer segments frequently purchase certain product categories."
   ]
  },
  {
   "cell_type": "code",
   "execution_count": 152,
   "id": "122fd3db-da8e-4f16-aa38-23c1705453e1",
   "metadata": {},
   "outputs": [
    {
     "data": {
      "image/png": "[encoded data removed]",
      "text/plain": [
       "<Figure size 800x800 with 1 Axes>"
      ]
     },
     "metadata": {},
     "output_type": "display_data"
    }
   ],
   "source": [
    "# Calculate profit by shipping mode\n",
    "shipping_profit = maindf.groupby('Ship_Mode').agg({'Profit': 'sum'}).reset_index()\n",
    "\n",
    "# Plotting\n",
    "plt.figure(figsize=(8, 8))\n",
    "plt.pie(shipping_profit['Profit'], labels=shipping_profit['Ship_Mode'], autopct='%1.1f%%', startangle=140, colors=['#ff9999','#66b3ff','#99ff99','#ffcc99'])\n",
    "plt.title('Profit Distribution by Shipping Mode')\n",
    "plt.axis('equal')  # Equal aspect ratio ensures that pie is drawn as a circle.\n",
    "plt.show()\n"
   ]
  },
  {
   "cell_type": "code",
   "execution_count": null,
   "id": "16822ab3-beaf-4459-804d-76fb5ca989f4",
   "metadata": {},
   "outputs": [],
   "source": []
  }
 ],
 "metadata": {
  "kernelspec": {
   "display_name": "Python 3 (ipykernel)",
   "language": "python",
   "name": "python3"
  },
  "language_info": {
   "codemirror_mode": {
    "name": "ipython",
    "version": 3
   },
   "file_extension": ".py",
   "mimetype": "text/x-python",
   "name": "python",
   "nbconvert_exporter": "python",
   "pygments_lexer": "ipython3",
   "version": "3.12.4"
  }
 },
 "nbformat": 4,
 "nbformat_minor": 5
}
